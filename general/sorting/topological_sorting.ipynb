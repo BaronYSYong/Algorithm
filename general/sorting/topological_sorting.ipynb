{
 "cells": [
  {
   "cell_type": "markdown",
   "metadata": {},
   "source": [
    "# Reference\n",
    "* https://www.geeksforgeeks.org/topological-sorting/"
   ]
  },
  {
   "cell_type": "code",
   "execution_count": 1,
   "metadata": {},
   "outputs": [],
   "source": [
    "class Graph: \n",
    "    def __init__(self,vertices): \n",
    "        self.graph = [[] for _ in range(vertices)]\n",
    "        self.V = vertices \n",
    "  \n",
    "    def addEdge(self,u,v): \n",
    "        self.graph[u].append(v) \n",
    "  \n",
    "    def topologicalSortUtil(self,v,visited,stack): \n",
    "        visited[v] = True\n",
    "\n",
    "        for i in self.graph[v]: \n",
    "            if visited[i] == False: \n",
    "                self.topologicalSortUtil(i,visited,stack) \n",
    "        stack.insert(0,v) \n",
    "\n",
    "    def topologicalSort(self): \n",
    "        visited = [False]*self.V \n",
    "        stack =[] \n",
    "  \n",
    "        for i in range(self.V): \n",
    "            if visited[i] == False: \n",
    "                self.topologicalSortUtil(i,visited,stack) \n",
    "  \n",
    "        return stack "
   ]
  },
  {
   "cell_type": "code",
   "execution_count": 2,
   "metadata": {},
   "outputs": [
    {
     "data": {
      "text/plain": [
       "[5, 4, 2, 3, 1, 0]"
      ]
     },
     "execution_count": 2,
     "metadata": {},
     "output_type": "execute_result"
    }
   ],
   "source": [
    "g= Graph(6) \n",
    "g.addEdge(5, 2); \n",
    "g.addEdge(5, 0); \n",
    "g.addEdge(4, 0); \n",
    "g.addEdge(4, 1); \n",
    "g.addEdge(2, 3); \n",
    "g.addEdge(3, 1); \n",
    "  \n",
    "g.topologicalSort() "
   ]
  },
  {
   "cell_type": "code",
   "execution_count": 5,
   "metadata": {},
   "outputs": [],
   "source": [
    "vertices = 6\n",
    "edge_list = [[5, 2], [5, 0], [4, 0], [4, 1], [2, 3], [3, 1]]\n",
    "# vertices = 2\n",
    "# edge_list = []"
   ]
  },
  {
   "cell_type": "code",
   "execution_count": 6,
   "metadata": {},
   "outputs": [],
   "source": [
    "def dfs(vertices, edge_list):\n",
    "    graph = [[] for _ in range(vertices)]\n",
    "    for edge in edge_list:\n",
    "        graph[edge[0]].append(edge[1])\n",
    "        \n",
    "    def dfs_sort(v,visited,stack, graph): \n",
    "        visited[v] = True\n",
    "\n",
    "        for i in graph[v]: \n",
    "            if visited[i] == False: \n",
    "                dfs_sort(i,visited,stack, graph) \n",
    "        stack.insert(0,v)    \n",
    "    \n",
    "    visited = [False]*vertices\n",
    "    stack = []\n",
    "    \n",
    "    for i in range(vertices):\n",
    "        if visited[i] == False:\n",
    "            dfs_sort(i, visited, stack, graph)\n",
    "            \n",
    "    return stack   \n",
    "\n",
    "g = dfs(vertices, edge_list)"
   ]
  },
  {
   "cell_type": "code",
   "execution_count": 7,
   "metadata": {},
   "outputs": [
    {
     "data": {
      "text/plain": [
       "[5, 4, 2, 3, 1, 0]"
      ]
     },
     "execution_count": 7,
     "metadata": {},
     "output_type": "execute_result"
    }
   ],
   "source": [
    "g"
   ]
  },
  {
   "cell_type": "code",
   "execution_count": 8,
   "metadata": {},
   "outputs": [
    {
     "data": {
      "text/plain": [
       "0"
      ]
     },
     "execution_count": 8,
     "metadata": {},
     "output_type": "execute_result"
    }
   ],
   "source": [
    "g.index(5)"
   ]
  },
  {
   "cell_type": "code",
   "execution_count": null,
   "metadata": {},
   "outputs": [],
   "source": []
  }
 ],
 "metadata": {
  "kernelspec": {
   "display_name": "Python 3",
   "language": "python",
   "name": "python3"
  },
  "language_info": {
   "codemirror_mode": {
    "name": "ipython",
    "version": 3
   },
   "file_extension": ".py",
   "mimetype": "text/x-python",
   "name": "python",
   "nbconvert_exporter": "python",
   "pygments_lexer": "ipython3",
   "version": "3.6.7"
  }
 },
 "nbformat": 4,
 "nbformat_minor": 2
}
